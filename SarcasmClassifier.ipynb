{
 "cells": [
  {
   "cell_type": "code",
   "execution_count": 12,
   "metadata": {},
   "outputs": [],
   "source": [
    "import json\n",
    "from tensorflow.keras.preprocessing.text import Tokenizer\n",
    "from tensorflow.keras.preprocessing.sequence import pad_sequences\n",
    "import tensorflow as tf\n",
    "import wget\n",
    "import os\n",
    "import matplotlib.pyplot as plt\n",
    "import io"
   ]
  },
  {
   "cell_type": "markdown",
   "metadata": {},
   "source": [
    "# Hyperparameters"
   ]
  },
  {
   "cell_type": "code",
   "execution_count": 2,
   "metadata": {},
   "outputs": [],
   "source": [
    "vocab_size=10000\n",
    "embedding=16\n",
    "max_length=32\n",
    "trunc='post'\n",
    "padd='post'\n",
    "oov_tok='<OOV>'\n",
    "training_size=20000"
   ]
  },
  {
   "cell_type": "markdown",
   "metadata": {},
   "source": [
    "# Getting the data"
   ]
  },
  {
   "cell_type": "code",
   "execution_count": 3,
   "metadata": {},
   "outputs": [],
   "source": [
    "url='https://storage.googleapis.com/laurencemoroney-blog.appspot.com/sarcasm.json'\n",
    "file='sarcasm.json'\n",
    "sentences=[]\n",
    "labels=[]\n",
    "if os.path.exists('sarcasm.json')==False:\n",
    "    wget.download(url,file)\n",
    "else:\n",
    "    #fill exist\n",
    "    pass\n",
    "with open(file,'r') as f:\n",
    "    data=json.load(f)\n",
    "for item in data:\n",
    "    sentences.append(item['headline'])\n",
    "    labels.append(item['is_sarcastic'])"
   ]
  },
  {
   "cell_type": "markdown",
   "metadata": {},
   "source": [
    "# Splitting the data"
   ]
  },
  {
   "cell_type": "code",
   "execution_count": 4,
   "metadata": {},
   "outputs": [],
   "source": [
    "train_sentences=sentences[:training_size]\n",
    "train_labels=labels[:training_size]\n",
    "test_sentences=sentences[:training_size]\n",
    "test_labels=labels[:training_size]"
   ]
  },
  {
   "cell_type": "markdown",
   "metadata": {},
   "source": [
    "# Creating tokenizer, Sequences, and Padded Sequences"
   ]
  },
  {
   "cell_type": "code",
   "execution_count": 5,
   "metadata": {},
   "outputs": [],
   "source": [
    "tokenizer=Tokenizer(num_words=vocab_size,oov_token=oov_tok)\n",
    "tokenizer.fit_on_texts(train_sentences)\n",
    "word_index=tokenizer.word_index\n",
    "training_sequence=tokenizer.texts_to_sequences(train_sentences)\n",
    "training_padded=pad_sequences(training_sequence,maxlen=max_length,truncating=trunc,padding=padd)\n",
    "testing_sequence=tokenizer.texts_to_sequences(test_sentences)\n",
    "testing_padded=pad_sequences(testing_sequence,maxlen=max_length,truncating=trunc,padding=padd)"
   ]
  },
  {
   "cell_type": "markdown",
   "metadata": {},
   "source": [
    "# Create Model"
   ]
  },
  {
   "cell_type": "code",
   "execution_count": 6,
   "metadata": {},
   "outputs": [
    {
     "name": "stdout",
     "output_type": "stream",
     "text": [
      "Model: \"sequential\"\n",
      "_________________________________________________________________\n",
      "Layer (type)                 Output Shape              Param #   \n",
      "=================================================================\n",
      "embedding (Embedding)        (None, 32, 16)            160000    \n",
      "_________________________________________________________________\n",
      "global_average_pooling1d (Gl (None, 16)                0         \n",
      "_________________________________________________________________\n",
      "dense (Dense)                (None, 32)                544       \n",
      "_________________________________________________________________\n",
      "dense_1 (Dense)              (None, 1)                 33        \n",
      "=================================================================\n",
      "Total params: 160,577\n",
      "Trainable params: 160,577\n",
      "Non-trainable params: 0\n",
      "_________________________________________________________________\n"
     ]
    }
   ],
   "source": [
    "model=tf.keras.Sequential([\n",
    "    tf.keras.layers.Embedding(vocab_size,embedding,input_length=max_length),\n",
    "    tf.keras.layers.GlobalAveragePooling1D(),\n",
    "    tf.keras.layers.Dense(32,activation='relu'),\n",
    "    tf.keras.layers.Dense(1,activation='sigmoid')\n",
    "])\n",
    "model.summary()"
   ]
  },
  {
   "cell_type": "markdown",
   "metadata": {},
   "source": [
    "# Compile model"
   ]
  },
  {
   "cell_type": "code",
   "execution_count": 7,
   "metadata": {},
   "outputs": [],
   "source": [
    "model.compile(loss='binary_crossentropy',optimizer='adam',metrics=['acc'])"
   ]
  },
  {
   "cell_type": "markdown",
   "metadata": {},
   "source": [
    "# Training the model"
   ]
  },
  {
   "cell_type": "code",
   "execution_count": 8,
   "metadata": {},
   "outputs": [
    {
     "name": "stdout",
     "output_type": "stream",
     "text": [
      "Train on 20000 samples, validate on 20000 samples\n",
      "Epoch 1/20\n",
      "20000/20000 - 2s - loss: 0.5459 - acc: 0.7143 - val_loss: 0.3309 - val_acc: 0.8737\n",
      "Epoch 2/20\n",
      "20000/20000 - 1s - loss: 0.2976 - acc: 0.8777 - val_loss: 0.2246 - val_acc: 0.9179\n",
      "Epoch 3/20\n",
      "20000/20000 - 1s - loss: 0.2233 - acc: 0.9126 - val_loss: 0.1712 - val_acc: 0.9398\n",
      "Epoch 4/20\n",
      "20000/20000 - 1s - loss: 0.1780 - acc: 0.9326 - val_loss: 0.1390 - val_acc: 0.9533\n",
      "Epoch 5/20\n",
      "20000/20000 - 2s - loss: 0.1482 - acc: 0.9456 - val_loss: 0.1147 - val_acc: 0.9617\n",
      "Epoch 6/20\n",
      "20000/20000 - 2s - loss: 0.1233 - acc: 0.9561 - val_loss: 0.0917 - val_acc: 0.9736\n",
      "Epoch 7/20\n",
      "20000/20000 - 2s - loss: 0.1065 - acc: 0.9625 - val_loss: 0.0763 - val_acc: 0.9772\n",
      "Epoch 8/20\n",
      "20000/20000 - 2s - loss: 0.0904 - acc: 0.9704 - val_loss: 0.0639 - val_acc: 0.9823\n",
      "Epoch 9/20\n",
      "20000/20000 - 2s - loss: 0.0784 - acc: 0.9742 - val_loss: 0.0540 - val_acc: 0.9854\n",
      "Epoch 10/20\n",
      "20000/20000 - 2s - loss: 0.0679 - acc: 0.9783 - val_loss: 0.0774 - val_acc: 0.9711\n",
      "Epoch 11/20\n",
      "20000/20000 - 2s - loss: 0.0592 - acc: 0.9820 - val_loss: 0.0409 - val_acc: 0.9892\n",
      "Epoch 12/20\n",
      "20000/20000 - 1s - loss: 0.0508 - acc: 0.9836 - val_loss: 0.0334 - val_acc: 0.9919\n",
      "Epoch 13/20\n",
      "20000/20000 - 1s - loss: 0.0456 - acc: 0.9857 - val_loss: 0.0334 - val_acc: 0.9908\n",
      "Epoch 14/20\n",
      "20000/20000 - 2s - loss: 0.0398 - acc: 0.9879 - val_loss: 0.0269 - val_acc: 0.9931\n",
      "Epoch 15/20\n",
      "20000/20000 - 2s - loss: 0.0344 - acc: 0.9902 - val_loss: 0.0280 - val_acc: 0.9926\n",
      "Epoch 16/20\n",
      "20000/20000 - 2s - loss: 0.0323 - acc: 0.9910 - val_loss: 0.0259 - val_acc: 0.9930\n",
      "Epoch 17/20\n",
      "20000/20000 - 2s - loss: 0.0284 - acc: 0.9918 - val_loss: 0.0183 - val_acc: 0.9955\n",
      "Epoch 18/20\n",
      "20000/20000 - 2s - loss: 0.0247 - acc: 0.9928 - val_loss: 0.0158 - val_acc: 0.9966\n",
      "Epoch 19/20\n",
      "20000/20000 - 2s - loss: 0.0225 - acc: 0.9935 - val_loss: 0.0136 - val_acc: 0.9969\n",
      "Epoch 20/20\n",
      "20000/20000 - 2s - loss: 0.0193 - acc: 0.9943 - val_loss: 0.0130 - val_acc: 0.9969\n"
     ]
    }
   ],
   "source": [
    "epochsN=20\n",
    "history=model.fit(\n",
    "    training_padded,\n",
    "    train_labels,\n",
    "    epochs=epochsN,\n",
    "    validation_data=(testing_padded,test_labels),\n",
    "    verbose=2)"
   ]
  },
  {
   "cell_type": "markdown",
   "metadata": {},
   "source": [
    "# Graphing the process"
   ]
  },
  {
   "cell_type": "code",
   "execution_count": 10,
   "metadata": {},
   "outputs": [
    {
     "data": {
      "image/png": "[encoded data removed]",
      "text/plain": [
       "<Figure size 432x288 with 1 Axes>"
      ]
     },
     "metadata": {
      "needs_background": "light"
     },
     "output_type": "display_data"
    },
    {
     "data": {
      "image/png": "[encoded data removed]",
      "text/plain": [
       "<Figure size 432x288 with 1 Axes>"
      ]
     },
     "metadata": {
      "needs_background": "light"
     },
     "output_type": "display_data"
    }
   ],
   "source": [
    "def plot_graph(history,string):\n",
    "    plt.plot(history.history[string])\n",
    "    plt.plot(history.history['val_'+string])\n",
    "    plt.xlabel('Epochs')\n",
    "    plt.ylabel(string)\n",
    "    plt.legend([string,'val_string'])\n",
    "    plt.show()\n",
    "plot_graph(history,'acc')\n",
    "plot_graph(history,'loss')"
   ]
  },
  {
   "cell_type": "markdown",
   "metadata": {},
   "source": [
    "# Create the cluster"
   ]
  },
  {
   "cell_type": "code",
   "execution_count": 11,
   "metadata": {},
   "outputs": [],
   "source": [
    "reverse_word_index = dict([(value, key) for (key, value) in word_index.items()])\n",
    "\n",
    "def decode_review(text):\n",
    "    return ' '.join([reverse_word_index.get(i, '?') for i in text])"
   ]
  },
  {
   "cell_type": "code",
   "execution_count": 15,
   "metadata": {},
   "outputs": [],
   "source": [
    "weights = model.layers[0].get_weights()[0]\n",
    "out_v = io.open('Sarcasm_vecs.tsv', 'w', encoding='utf-8')\n",
    "out_m = io.open('Sarcasm_meta.tsv', 'w', encoding='utf-8')\n",
    "for word_num in range(1, vocab_size):\n",
    "    word = reverse_word_index[word_num]\n",
    "    embeddings = weights[word_num]\n",
    "    out_m.write(word + \"\\n\")\n",
    "    out_v.write('\\t'.join([str(x) for x in embeddings]) + \"\\n\")\n",
    "out_v.close()\n",
    "out_m.close()"
   ]
  }
 ],
 "metadata": {
  "kernelspec": {
   "display_name": "Python 3",
   "language": "python",
   "name": "python3"
  },
  "language_info": {
   "codemirror_mode": {
    "name": "ipython",
    "version": 3
   },
   "file_extension": ".py",
   "mimetype": "text/x-python",
   "name": "python",
   "nbconvert_exporter": "python",
   "pygments_lexer": "ipython3",
   "version": "3.7.6"
  }
 },
 "nbformat": 4,
 "nbformat_minor": 4
}
